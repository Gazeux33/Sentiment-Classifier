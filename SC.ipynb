{
 "cells": [
  {
   "cell_type": "code",
   "outputs": [],
   "source": [
    "import tensorflow as tf\n",
    "import pandas as pd\n",
    "import matplotlib.pyplot as plt\n",
    "import json"
   ],
   "metadata": {
    "collapsed": false,
    "ExecuteTime": {
     "end_time": "2024-02-27T11:24:22.828286Z",
     "start_time": "2024-02-27T11:24:22.773319Z"
    }
   },
   "id": "initial_id",
   "execution_count": 724
  },
  {
   "cell_type": "code",
   "outputs": [],
   "source": [
    "PATH = \"data/training.1600000.processed.noemoticon.csv\"\n",
    "df = pd.read_csv(PATH,sep=\",\",encoding=\"latin-1\")"
   ],
   "metadata": {
    "collapsed": false,
    "ExecuteTime": {
     "end_time": "2024-02-27T11:24:25.135651Z",
     "start_time": "2024-02-27T11:24:22.831935Z"
    }
   },
   "id": "5417fbfbc75a8b00",
   "execution_count": 725
  },
  {
   "cell_type": "code",
   "outputs": [
    {
     "name": "stdout",
     "output_type": "stream",
     "text": [
      "(1599999, 6)\n",
      "   0  1467810369  Mon Apr 06 22:19:45 PDT 2009  NO_QUERY _TheSpecialOne_  \\\n",
      "0  0  1467810672  Mon Apr 06 22:19:49 PDT 2009  NO_QUERY   scotthamilton   \n",
      "1  0  1467810917  Mon Apr 06 22:19:53 PDT 2009  NO_QUERY        mattycus   \n",
      "2  0  1467811184  Mon Apr 06 22:19:57 PDT 2009  NO_QUERY         ElleCTF   \n",
      "3  0  1467811193  Mon Apr 06 22:19:57 PDT 2009  NO_QUERY          Karoli   \n",
      "4  0  1467811372  Mon Apr 06 22:20:00 PDT 2009  NO_QUERY        joy_wolf   \n",
      "\n",
      "  @switchfoot http://twitpic.com/2y1zl - Awww, that's a bummer.  You shoulda got David Carr of Third Day to do it. ;D  \n",
      "0  is upset that he can't update his Facebook by ...                                                                   \n",
      "1  @Kenichan I dived many times for the ball. Man...                                                                   \n",
      "2    my whole body feels itchy and like its on fire                                                                    \n",
      "3  @nationwideclass no, it's not behaving at all....                                                                   \n",
      "4                      @Kwesidei not the whole crew                                                                    \n"
     ]
    }
   ],
   "source": [
    "print(df.shape)\n",
    "print(df.head())"
   ],
   "metadata": {
    "collapsed": false,
    "ExecuteTime": {
     "end_time": "2024-02-27T11:24:25.147291Z",
     "start_time": "2024-02-27T11:24:25.142519Z"
    }
   },
   "id": "3daab21d728971ef",
   "execution_count": 726
  },
  {
   "cell_type": "code",
   "outputs": [
    {
     "name": "stdout",
     "output_type": "stream",
     "text": [
      "(1599999, 2)\n",
      "   opinion                                            content\n",
      "0        0  is upset that he can't update his Facebook by ...\n",
      "1        0  @Kenichan I dived many times for the ball. Man...\n",
      "2        0    my whole body feels itchy and like its on fire \n",
      "3        0  @nationwideclass no, it's not behaving at all....\n",
      "4        0                      @Kwesidei not the whole crew \n"
     ]
    }
   ],
   "source": [
    "df = df.iloc[:,[0,-1]]\n",
    "print(df.shape)\n",
    "df.columns = [\"opinion\",\"content\"]\n",
    "print(df.head())\n"
   ],
   "metadata": {
    "collapsed": false,
    "ExecuteTime": {
     "end_time": "2024-02-27T11:24:25.239240Z",
     "start_time": "2024-02-27T11:24:25.153067Z"
    }
   },
   "id": "1391e96d4a305ee7",
   "execution_count": 727
  },
  {
   "cell_type": "code",
   "outputs": [],
   "source": [
    "df[\"opinion\"] = df[\"opinion\"].apply(lambda x: 1 if x == 4 else x)"
   ],
   "metadata": {
    "collapsed": false,
    "ExecuteTime": {
     "end_time": "2024-02-27T11:24:25.627086Z",
     "start_time": "2024-02-27T11:24:25.237555Z"
    }
   },
   "id": "f182d66c5b58ac99",
   "execution_count": 728
  },
  {
   "cell_type": "code",
   "outputs": [
    {
     "name": "stdout",
     "output_type": "stream",
     "text": [
      "opinion\n",
      "1    800000\n",
      "0    799999\n",
      "Name: count, dtype: int64\n"
     ]
    }
   ],
   "source": [
    "print(df[\"opinion\"].value_counts())"
   ],
   "metadata": {
    "collapsed": false,
    "ExecuteTime": {
     "end_time": "2024-02-27T11:24:25.641409Z",
     "start_time": "2024-02-27T11:24:25.626430Z"
    }
   },
   "id": "1dd331669f0eb2b6",
   "execution_count": 729
  },
  {
   "cell_type": "code",
   "outputs": [
    {
     "name": "stdout",
     "output_type": "stream",
     "text": [
      "         opinion                                            content\n",
      "386742         0  Oh yeah! Beautiful saturday to be inside! Wooh...\n",
      "371655         0                    Tigers almost made a comeback. \n",
      "942302         1  @kjohnsonesq Awesome. I know your love of Bob'...\n",
      "1084416        1  @brianpreston not really...I'll swing it by hi...\n",
      "72057          0                                    My tummy hurts \n",
      "(50000, 2)\n",
      "opinion\n",
      "0    25055\n",
      "1    24945\n",
      "Name: count, dtype: int64\n"
     ]
    }
   ],
   "source": [
    "echantillon = 50_000\n",
    "df = df.sample(len(df))\n",
    "df = df.iloc[:echantillon]\n",
    "print(df.head())\n",
    "print(df.shape)\n",
    "print(df[\"opinion\"].value_counts())"
   ],
   "metadata": {
    "collapsed": false,
    "ExecuteTime": {
     "end_time": "2024-02-27T11:24:25.899139Z",
     "start_time": "2024-02-27T11:24:25.638391Z"
    }
   },
   "id": "670bcb71030da3f3",
   "execution_count": 730
  },
  {
   "cell_type": "code",
   "outputs": [],
   "source": [
    "tokenizer = tf.keras.preprocessing.text.Tokenizer()\n",
    "tokenizer.fit_on_texts(df[\"content\"])"
   ],
   "metadata": {
    "collapsed": false,
    "ExecuteTime": {
     "end_time": "2024-02-27T11:24:26.289244Z",
     "start_time": "2024-02-27T11:24:25.916598Z"
    }
   },
   "id": "2fbbc9200b82b981",
   "execution_count": 731
  },
  {
   "cell_type": "code",
   "outputs": [],
   "source": [
    "tokenizer_json = tokenizer.to_json()\n",
    "tokenizer_path = \"tokenizer.json\"\n",
    "with open(tokenizer_path, 'w+', encoding='utf-8') as f:\n",
    "    f.write(json.dumps(tokenizer_json, ensure_ascii=False))"
   ],
   "metadata": {
    "collapsed": false,
    "ExecuteTime": {
     "end_time": "2024-02-27T11:24:26.396046Z",
     "start_time": "2024-02-27T11:24:26.369856Z"
    }
   },
   "id": "9029a8eeb7ec2c3e",
   "execution_count": 732
  },
  {
   "cell_type": "code",
   "outputs": [],
   "source": [
    "vocab = tokenizer.word_index\n",
    "vocab_size = len(vocab)+1"
   ],
   "metadata": {
    "collapsed": false,
    "ExecuteTime": {
     "end_time": "2024-02-27T11:24:26.400525Z",
     "start_time": "2024-02-27T11:24:26.395947Z"
    }
   },
   "id": "eb987a78387308c5",
   "execution_count": 733
  },
  {
   "cell_type": "code",
   "outputs": [
    {
     "name": "stdout",
     "output_type": "stream",
     "text": [
      "59823\n"
     ]
    }
   ],
   "source": [
    "print(vocab_size)"
   ],
   "metadata": {
    "collapsed": false,
    "ExecuteTime": {
     "end_time": "2024-02-27T11:24:26.401761Z",
     "start_time": "2024-02-27T11:24:26.399756Z"
    }
   },
   "id": "68fd1713ba5d33b5",
   "execution_count": 734
  },
  {
   "cell_type": "code",
   "outputs": [],
   "source": [
    "from sklearn.model_selection import train_test_split"
   ],
   "metadata": {
    "collapsed": false,
    "ExecuteTime": {
     "end_time": "2024-02-27T11:24:26.405923Z",
     "start_time": "2024-02-27T11:24:26.401822Z"
    }
   },
   "id": "cf899b83b6d744b8",
   "execution_count": 735
  },
  {
   "cell_type": "code",
   "outputs": [
    {
     "name": "stdout",
     "output_type": "stream",
     "text": [
      "[[41044, 9, 20, 260, 618, 2, 126, 2, 43], [20, 34, 12, 3, 606, 135, 213, 2, 38, 16, 379, 6, 581, 224, 171, 3, 517, 2, 3, 691], [19, 819, 5, 2353, 4047, 212, 14, 188], [16229, 42721, 9042, 10510, 42722, 495], [68, 139, 2, 200, 920, 72, 833]]\n"
     ]
    }
   ],
   "source": [
    "x_train,x_test,y_train,y_test = train_test_split(df[\"content\"].values,df[\"opinion\"].values,test_size=0.3)\n",
    "\n",
    "x_train_vec = tokenizer.texts_to_sequences(x_train)\n",
    "x_test_vec = tokenizer.texts_to_sequences(x_test)\n",
    "print(x_train_vec[:5])"
   ],
   "metadata": {
    "collapsed": false,
    "ExecuteTime": {
     "end_time": "2024-02-27T11:24:27.062171Z",
     "start_time": "2024-02-27T11:24:26.405038Z"
    }
   },
   "id": "960a3ce6d1a54a95",
   "execution_count": 736
  },
  {
   "cell_type": "code",
   "outputs": [
    {
     "name": "stdout",
     "output_type": "stream",
     "text": [
      "(35000, 38)\n",
      "[41044     9    20   260   618     2   126     2    43     0     0     0\n",
      "     0     0     0     0     0     0     0     0     0     0     0     0\n",
      "     0     0     0     0     0     0     0     0     0     0     0     0\n",
      "     0     0]\n"
     ]
    }
   ],
   "source": [
    "train_pad = tf.keras.preprocessing.sequence.pad_sequences(x_train_vec,padding=\"post\")\n",
    "print(train_pad.shape)\n",
    "T = train_pad.shape[1]\n",
    "print(train_pad[0])"
   ],
   "metadata": {
    "collapsed": false,
    "ExecuteTime": {
     "end_time": "2024-02-27T11:24:27.103331Z",
     "start_time": "2024-02-27T11:24:27.062032Z"
    }
   },
   "id": "3f12a7d800d77e61",
   "execution_count": 737
  },
  {
   "cell_type": "code",
   "outputs": [
    {
     "name": "stdout",
     "output_type": "stream",
     "text": [
      "(15000, 38)\n"
     ]
    }
   ],
   "source": [
    "test_pad = tf.keras.preprocessing.sequence.pad_sequences(x_test_vec,maxlen=T,padding=\"post\")\n",
    "print(test_pad.shape)"
   ],
   "metadata": {
    "collapsed": false,
    "ExecuteTime": {
     "end_time": "2024-02-27T11:24:27.124009Z",
     "start_time": "2024-02-27T11:24:27.102358Z"
    }
   },
   "id": "71bffb04ece6d3a0",
   "execution_count": 738
  },
  {
   "cell_type": "code",
   "outputs": [],
   "source": [
    "from model import MySentimentClassifierModel"
   ],
   "metadata": {
    "collapsed": false
   },
   "id": "b9ab6c1389559b65"
  },
  {
   "cell_type": "code",
   "outputs": [],
   "source": [
    "e_dim = 10\n",
    "model = MySentimentClassifierModel(vocab_size,e_dim)"
   ],
   "metadata": {
    "collapsed": false,
    "ExecuteTime": {
     "end_time": "2024-02-27T11:24:27.151434Z",
     "start_time": "2024-02-27T11:24:27.141713Z"
    }
   },
   "id": "c7690fbbb3d33073",
   "execution_count": 741
  },
  {
   "cell_type": "code",
   "outputs": [],
   "source": [
    "model.compile(optimizer=\"adam\",loss=\"binary_crossentropy\",metrics=[\"accuracy\"])"
   ],
   "metadata": {
    "collapsed": false,
    "ExecuteTime": {
     "end_time": "2024-02-27T11:24:27.159980Z",
     "start_time": "2024-02-27T11:24:27.152683Z"
    }
   },
   "id": "22e870f932b9aa24",
   "execution_count": 742
  },
  {
   "cell_type": "code",
   "outputs": [
    {
     "name": "stdout",
     "output_type": "stream",
     "text": [
      "Epoch 1/2\n",
      "547/547 [==============================] - 73s 132ms/step - loss: 0.5705 - accuracy: 0.6958 - val_loss: 0.4812 - val_accuracy: 0.7733\n",
      "Epoch 2/2\n",
      "547/547 [==============================] - 75s 136ms/step - loss: 0.3869 - accuracy: 0.8297 - val_loss: 0.4808 - val_accuracy: 0.7755\n"
     ]
    }
   ],
   "source": [
    "history = model.fit(train_pad,y_train,validation_data=(test_pad,y_test),epochs=2,batch_size=64)"
   ],
   "metadata": {
    "collapsed": false,
    "ExecuteTime": {
     "end_time": "2024-02-27T11:26:55.478805Z",
     "start_time": "2024-02-27T11:24:27.157366Z"
    }
   },
   "id": "85fd5117e00332f7",
   "execution_count": 743
  },
  {
   "cell_type": "markdown",
   "source": [],
   "metadata": {
    "collapsed": false
   },
   "id": "7d6d29c23c23c964"
  },
  {
   "cell_type": "code",
   "outputs": [
    {
     "data": {
      "text/plain": "<matplotlib.legend.Legend at 0x289844c50>"
     },
     "execution_count": 744,
     "metadata": {},
     "output_type": "execute_result"
    },
    {
     "data": {
      "text/plain": "<Figure size 640x480 with 1 Axes>",
      "image/png": "[encoded data removed]"
     },
     "metadata": {},
     "output_type": "display_data"
    }
   ],
   "source": [
    "plt.plot(history.history[\"loss\"],label = \"loss\")\n",
    "plt.plot(history.history[\"accuracy\"],label = \"accuracy\")\n",
    "plt.legend()"
   ],
   "metadata": {
    "collapsed": false,
    "ExecuteTime": {
     "end_time": "2024-02-27T11:26:55.582214Z",
     "start_time": "2024-02-27T11:26:54.960265Z"
    }
   },
   "id": "a67402020c1d5608",
   "execution_count": 744
  },
  {
   "cell_type": "code",
   "outputs": [],
   "source": [
    "def predict_text(text):\n",
    "    print(text)\n",
    "    seq = tokenizer.texts_to_sequences([text])  # Envoyer le texte comme une liste pour obtenir une seule séquence\n",
    "    seq_pad = tf.keras.preprocessing.sequence.pad_sequences(seq, maxlen=T, padding=\"post\")\n",
    "    ans = model.predict(seq_pad)\n",
    "    print(\"out:\", ans)\n",
    "    if ans > 0.5:\n",
    "        print(\"C'est un sentiment positif.\")\n",
    "    else:\n",
    "        print(\"C'est un sentiment négatif.\")"
   ],
   "metadata": {
    "collapsed": false,
    "ExecuteTime": {
     "end_time": "2024-02-27T11:26:55.582697Z",
     "start_time": "2024-02-27T11:26:55.047637Z"
    }
   },
   "id": "62c8ca81283c4337",
   "execution_count": 745
  },
  {
   "cell_type": "code",
   "outputs": [
    {
     "name": "stdout",
     "output_type": "stream",
     "text": [
      "I haapy to be here\n",
      "1/1 [==============================] - 0s 139ms/step\n",
      "out: [[0.29456392]]\n",
      "C'est un sentiment négatif.\n",
      "I hate this film\n",
      "1/1 [==============================] - 0s 11ms/step\n",
      "out: [[0.09814462]]\n",
      "C'est un sentiment négatif.\n",
      "This is a good film\n",
      "1/1 [==============================] - 0s 9ms/step\n",
      "out: [[0.7625996]]\n",
      "C'est un sentiment positif.\n",
      "I love my mother \n",
      "1/1 [==============================] - 0s 10ms/step\n",
      "out: [[0.795035]]\n",
      "C'est un sentiment positif.\n",
      "I don't like the bowling\n",
      "1/1 [==============================] - 0s 9ms/step\n",
      "out: [[0.2639354]]\n",
      "C'est un sentiment négatif.\n",
      "I like the bowling\n",
      "1/1 [==============================] - 0s 8ms/step\n",
      "out: [[0.7306302]]\n",
      "C'est un sentiment positif.\n"
     ]
    }
   ],
   "source": [
    "predict_text(\"I haapy to be here\")\n",
    "predict_text(\"I hate this film\")\n",
    "predict_text(\"This is a good film\")\n",
    "predict_text(\"I love my mother \")\n",
    "predict_text(\"I don't like the bowling\")\n",
    "predict_text(\"I like the bowling\")"
   ],
   "metadata": {
    "collapsed": false,
    "ExecuteTime": {
     "end_time": "2024-02-27T11:26:55.583518Z",
     "start_time": "2024-02-27T11:26:55.051179Z"
    }
   },
   "id": "30febc70171da041",
   "execution_count": 746
  },
  {
   "cell_type": "code",
   "outputs": [],
   "source": [
    "model.save(\"SC.keras\")"
   ],
   "metadata": {
    "collapsed": false,
    "ExecuteTime": {
     "end_time": "2024-02-27T11:26:55.583974Z",
     "start_time": "2024-02-27T11:26:55.315662Z"
    }
   },
   "id": "2d54f71c06e1ec48",
   "execution_count": 747
  }
 ],
 "metadata": {
  "kernelspec": {
   "display_name": "Python 3",
   "language": "python",
   "name": "python3"
  },
  "language_info": {
   "codemirror_mode": {
    "name": "ipython",
    "version": 2
   },
   "file_extension": ".py",
   "mimetype": "text/x-python",
   "name": "python",
   "nbconvert_exporter": "python",
   "pygments_lexer": "ipython2",
   "version": "2.7.6"
  }
 },
 "nbformat": 4,
 "nbformat_minor": 5
}
