{
 "cells": [
  {
   "cell_type": "code",
   "outputs": [],
   "source": [
    "import tensorflow as tf\n",
    "import pandas as pd\n",
    "import matplotlib.pyplot as plt\n",
    "import json"
   ],
   "metadata": {
    "collapsed": false,
    "ExecuteTime": {
     "end_time": "2024-02-27T12:39:24.026224Z",
     "start_time": "2024-02-27T12:39:24.013802Z"
    }
   },
   "id": "initial_id",
   "execution_count": 26
  },
  {
   "cell_type": "code",
   "outputs": [],
   "source": [
    "PATH = \"data/training.1600000.processed.noemoticon.csv\"\n",
    "df = pd.read_csv(PATH,sep=\",\",encoding=\"latin-1\")"
   ],
   "metadata": {
    "collapsed": false,
    "ExecuteTime": {
     "end_time": "2024-02-27T12:39:26.124485Z",
     "start_time": "2024-02-27T12:39:24.033604Z"
    }
   },
   "id": "5417fbfbc75a8b00",
   "execution_count": 27
  },
  {
   "cell_type": "code",
   "outputs": [
    {
     "name": "stdout",
     "output_type": "stream",
     "text": [
      "(1599999, 6)\n",
      "   0  1467810369  Mon Apr 06 22:19:45 PDT 2009  NO_QUERY _TheSpecialOne_  \\\n",
      "0  0  1467810672  Mon Apr 06 22:19:49 PDT 2009  NO_QUERY   scotthamilton   \n",
      "1  0  1467810917  Mon Apr 06 22:19:53 PDT 2009  NO_QUERY        mattycus   \n",
      "2  0  1467811184  Mon Apr 06 22:19:57 PDT 2009  NO_QUERY         ElleCTF   \n",
      "3  0  1467811193  Mon Apr 06 22:19:57 PDT 2009  NO_QUERY          Karoli   \n",
      "4  0  1467811372  Mon Apr 06 22:20:00 PDT 2009  NO_QUERY        joy_wolf   \n",
      "\n",
      "  @switchfoot http://twitpic.com/2y1zl - Awww, that's a bummer.  You shoulda got David Carr of Third Day to do it. ;D  \n",
      "0  is upset that he can't update his Facebook by ...                                                                   \n",
      "1  @Kenichan I dived many times for the ball. Man...                                                                   \n",
      "2    my whole body feels itchy and like its on fire                                                                    \n",
      "3  @nationwideclass no, it's not behaving at all....                                                                   \n",
      "4                      @Kwesidei not the whole crew                                                                    \n"
     ]
    }
   ],
   "source": [
    "print(df.shape)\n",
    "print(df.head())"
   ],
   "metadata": {
    "collapsed": false,
    "ExecuteTime": {
     "end_time": "2024-02-27T12:39:26.132690Z",
     "start_time": "2024-02-27T12:39:26.124050Z"
    }
   },
   "id": "3daab21d728971ef",
   "execution_count": 28
  },
  {
   "cell_type": "code",
   "outputs": [
    {
     "name": "stdout",
     "output_type": "stream",
     "text": [
      "(1599999, 2)\n",
      "   opinion                                            content\n",
      "0        0  is upset that he can't update his Facebook by ...\n",
      "1        0  @Kenichan I dived many times for the ball. Man...\n",
      "2        0    my whole body feels itchy and like its on fire \n",
      "3        0  @nationwideclass no, it's not behaving at all....\n",
      "4        0                      @Kwesidei not the whole crew \n"
     ]
    }
   ],
   "source": [
    "df = df.iloc[:,[0,-1]]\n",
    "print(df.shape)\n",
    "df.columns = [\"opinion\",\"content\"]\n",
    "print(df.head())\n"
   ],
   "metadata": {
    "collapsed": false,
    "ExecuteTime": {
     "end_time": "2024-02-27T12:39:26.189759Z",
     "start_time": "2024-02-27T12:39:26.131245Z"
    }
   },
   "id": "1391e96d4a305ee7",
   "execution_count": 29
  },
  {
   "cell_type": "code",
   "outputs": [],
   "source": [
    "df[\"opinion\"] = df[\"opinion\"].apply(lambda x: 1 if x == 4 else x)"
   ],
   "metadata": {
    "collapsed": false,
    "ExecuteTime": {
     "end_time": "2024-02-27T12:39:26.405932Z",
     "start_time": "2024-02-27T12:39:26.190391Z"
    }
   },
   "id": "f182d66c5b58ac99",
   "execution_count": 30
  },
  {
   "cell_type": "code",
   "outputs": [
    {
     "name": "stdout",
     "output_type": "stream",
     "text": [
      "opinion\n",
      "1    800000\n",
      "0    799999\n",
      "Name: count, dtype: int64\n"
     ]
    }
   ],
   "source": [
    "print(df[\"opinion\"].value_counts())"
   ],
   "metadata": {
    "collapsed": false,
    "ExecuteTime": {
     "end_time": "2024-02-27T12:39:26.415422Z",
     "start_time": "2024-02-27T12:39:26.412436Z"
    }
   },
   "id": "1dd331669f0eb2b6",
   "execution_count": 31
  },
  {
   "cell_type": "code",
   "outputs": [
    {
     "name": "stdout",
     "output_type": "stream",
     "text": [
      "         opinion                                            content\n",
      "792058         0  @joemarsip actually  it's my new tweet joe (wh...\n",
      "103541         0  has a head cold. Didn't have enough sense to c...\n",
      "619187         0                       @therealtommyg is a LIARRRR \n",
      "706778         0  @Shontelle_Layne im upset how i haven't got an...\n",
      "1075317        1  @becca4 thx  everything is great! .. minus the...\n",
      "(100000, 2)\n",
      "opinion\n",
      "1    50103\n",
      "0    49897\n",
      "Name: count, dtype: int64\n"
     ]
    }
   ],
   "source": [
    "echantillon = 100_000\n",
    "df = df.sample(len(df))\n",
    "df = df.iloc[:echantillon]\n",
    "print(df.head())\n",
    "print(df.shape)\n",
    "print(df[\"opinion\"].value_counts())"
   ],
   "metadata": {
    "collapsed": false,
    "ExecuteTime": {
     "end_time": "2024-02-27T12:39:26.507867Z",
     "start_time": "2024-02-27T12:39:26.416987Z"
    }
   },
   "id": "670bcb71030da3f3",
   "execution_count": 32
  },
  {
   "cell_type": "code",
   "outputs": [],
   "source": [
    "tokenizer = tf.keras.preprocessing.text.Tokenizer()\n",
    "tokenizer.fit_on_texts(df[\"content\"])"
   ],
   "metadata": {
    "collapsed": false,
    "ExecuteTime": {
     "end_time": "2024-02-27T12:39:27.228319Z",
     "start_time": "2024-02-27T12:39:26.577651Z"
    }
   },
   "id": "2fbbc9200b82b981",
   "execution_count": 33
  },
  {
   "cell_type": "code",
   "outputs": [],
   "source": [
    "tokenizer_json = tokenizer.to_json()\n",
    "tokenizer_path = \"tokenizer.json\"\n",
    "with open(tokenizer_path, 'w+', encoding='utf-8') as f:\n",
    "    f.write(json.dumps(tokenizer_json, ensure_ascii=False))"
   ],
   "metadata": {
    "collapsed": false,
    "ExecuteTime": {
     "end_time": "2024-02-27T12:39:27.540307Z",
     "start_time": "2024-02-27T12:39:27.458446Z"
    }
   },
   "id": "9029a8eeb7ec2c3e",
   "execution_count": 34
  },
  {
   "cell_type": "code",
   "outputs": [],
   "source": [
    "vocab = tokenizer.word_index\n",
    "vocab_size = len(vocab)+1"
   ],
   "metadata": {
    "collapsed": false,
    "ExecuteTime": {
     "end_time": "2024-02-27T12:39:27.543454Z",
     "start_time": "2024-02-27T12:39:27.542147Z"
    }
   },
   "id": "eb987a78387308c5",
   "execution_count": 35
  },
  {
   "cell_type": "code",
   "outputs": [
    {
     "name": "stdout",
     "output_type": "stream",
     "text": [
      "99030\n"
     ]
    }
   ],
   "source": [
    "print(vocab_size)"
   ],
   "metadata": {
    "collapsed": false,
    "ExecuteTime": {
     "end_time": "2024-02-27T12:39:27.548357Z",
     "start_time": "2024-02-27T12:39:27.545210Z"
    }
   },
   "id": "68fd1713ba5d33b5",
   "execution_count": 36
  },
  {
   "cell_type": "code",
   "outputs": [],
   "source": [
    "from sklearn.model_selection import train_test_split"
   ],
   "metadata": {
    "collapsed": false,
    "ExecuteTime": {
     "end_time": "2024-02-27T12:39:27.549093Z",
     "start_time": "2024-02-27T12:39:27.547200Z"
    }
   },
   "id": "cf899b83b6d744b8",
   "execution_count": 37
  },
  {
   "cell_type": "code",
   "outputs": [
    {
     "name": "stdout",
     "output_type": "stream",
     "text": [
      "[[55696, 7528, 187, 38, 2, 3, 671, 26, 353, 5, 596, 595, 22, 77, 1391, 376], [20862, 5, 385, 4981, 8, 383, 9627], [72356, 15, 608, 57, 74, 22, 46], [46436, 51, 53, 342, 1, 68, 140, 1, 2836, 48, 320, 2, 17, 235, 16, 99, 13, 350, 1365, 615, 126, 3, 414, 9, 8, 2926, 382], [92606, 160, 52, 143, 19, 550, 172, 3126, 12, 760, 420, 9, 6, 9, 20, 13570, 420, 9]]\n"
     ]
    }
   ],
   "source": [
    "x_train,x_test,y_train,y_test = train_test_split(df[\"content\"].values,df[\"opinion\"].values,test_size=0.3)\n",
    "\n",
    "x_train_vec = tokenizer.texts_to_sequences(x_train)\n",
    "x_test_vec = tokenizer.texts_to_sequences(x_test)\n",
    "print(x_train_vec[:5])"
   ],
   "metadata": {
    "collapsed": false,
    "ExecuteTime": {
     "end_time": "2024-02-27T12:39:28.278804Z",
     "start_time": "2024-02-27T12:39:27.548720Z"
    }
   },
   "id": "960a3ce6d1a54a95",
   "execution_count": 38
  },
  {
   "cell_type": "code",
   "outputs": [
    {
     "name": "stdout",
     "output_type": "stream",
     "text": [
      "(70000, 36)\n",
      "[55696  7528   187    38     2     3   671    26   353     5   596   595\n",
      "    22    77  1391   376     0     0     0     0     0     0     0     0\n",
      "     0     0     0     0     0     0     0     0     0     0     0     0]\n"
     ]
    }
   ],
   "source": [
    "train_pad = tf.keras.preprocessing.sequence.pad_sequences(x_train_vec,padding=\"post\")\n",
    "print(train_pad.shape)\n",
    "T = train_pad.shape[1]\n",
    "print(train_pad[0])"
   ],
   "metadata": {
    "collapsed": false,
    "ExecuteTime": {
     "end_time": "2024-02-27T12:39:28.351255Z",
     "start_time": "2024-02-27T12:39:28.283250Z"
    }
   },
   "id": "3f12a7d800d77e61",
   "execution_count": 39
  },
  {
   "cell_type": "code",
   "outputs": [
    {
     "name": "stdout",
     "output_type": "stream",
     "text": [
      "(30000, 36)\n"
     ]
    }
   ],
   "source": [
    "test_pad = tf.keras.preprocessing.sequence.pad_sequences(x_test_vec,maxlen=T,padding=\"post\")\n",
    "print(test_pad.shape)"
   ],
   "metadata": {
    "collapsed": false,
    "ExecuteTime": {
     "end_time": "2024-02-27T12:39:28.382985Z",
     "start_time": "2024-02-27T12:39:28.353027Z"
    }
   },
   "id": "71bffb04ece6d3a0",
   "execution_count": 40
  },
  {
   "cell_type": "code",
   "outputs": [],
   "source": [
    "from model import MySentimentClassifierModel"
   ],
   "metadata": {
    "collapsed": false,
    "ExecuteTime": {
     "end_time": "2024-02-27T12:39:28.385710Z",
     "start_time": "2024-02-27T12:39:28.383734Z"
    }
   },
   "id": "b9ab6c1389559b65",
   "execution_count": 41
  },
  {
   "cell_type": "code",
   "outputs": [],
   "source": [
    "e_dim = 10\n",
    "model = MySentimentClassifierModel(vocab_size,e_dim)"
   ],
   "metadata": {
    "collapsed": false,
    "ExecuteTime": {
     "end_time": "2024-02-27T12:39:28.392394Z",
     "start_time": "2024-02-27T12:39:28.387306Z"
    }
   },
   "id": "c7690fbbb3d33073",
   "execution_count": 42
  },
  {
   "cell_type": "code",
   "outputs": [],
   "source": [
    "model.compile(optimizer=\"adam\",loss=\"binary_crossentropy\",metrics=[\"accuracy\"])"
   ],
   "metadata": {
    "collapsed": false,
    "ExecuteTime": {
     "end_time": "2024-02-27T12:39:28.397321Z",
     "start_time": "2024-02-27T12:39:28.394205Z"
    }
   },
   "id": "22e870f932b9aa24",
   "execution_count": 43
  },
  {
   "cell_type": "code",
   "outputs": [
    {
     "name": "stdout",
     "output_type": "stream",
     "text": [
      "Epoch 1/2\n",
      "1094/1094 [==============================] - 148s 135ms/step - loss: 0.5707 - accuracy: 0.6925 - val_loss: 0.4686 - val_accuracy: 0.7799\n",
      "Epoch 2/2\n",
      "1094/1094 [==============================] - 136s 125ms/step - loss: 0.3852 - accuracy: 0.8315 - val_loss: 0.4874 - val_accuracy: 0.7646\n"
     ]
    }
   ],
   "source": [
    "history = model.fit(train_pad,y_train,validation_data=(test_pad,y_test),epochs=2,batch_size=64)"
   ],
   "metadata": {
    "collapsed": false,
    "ExecuteTime": {
     "end_time": "2024-02-27T12:44:12.641212Z",
     "start_time": "2024-02-27T12:39:28.399061Z"
    }
   },
   "id": "85fd5117e00332f7",
   "execution_count": 44
  },
  {
   "cell_type": "markdown",
   "source": [],
   "metadata": {
    "collapsed": false
   },
   "id": "7d6d29c23c23c964"
  },
  {
   "cell_type": "code",
   "outputs": [
    {
     "data": {
      "text/plain": "<matplotlib.legend.Legend at 0x28aa8d3d0>"
     },
     "execution_count": 45,
     "metadata": {},
     "output_type": "execute_result"
    },
    {
     "data": {
      "text/plain": "<Figure size 640x480 with 1 Axes>",
      "image/png": "[encoded data removed]"
     },
     "metadata": {},
     "output_type": "display_data"
    }
   ],
   "source": [
    "plt.plot(history.history[\"loss\"],label = \"loss\")\n",
    "plt.plot(history.history[\"accuracy\"],label = \"accuracy\")\n",
    "plt.legend()"
   ],
   "metadata": {
    "collapsed": false,
    "ExecuteTime": {
     "end_time": "2024-02-27T12:44:12.806114Z",
     "start_time": "2024-02-27T12:44:12.641072Z"
    }
   },
   "id": "a67402020c1d5608",
   "execution_count": 45
  },
  {
   "cell_type": "code",
   "outputs": [],
   "source": [
    "def predict_text(text):\n",
    "    print(text)\n",
    "    seq = tokenizer.texts_to_sequences([text])  # Envoyer le texte comme une liste pour obtenir une seule séquence\n",
    "    seq_pad = tf.keras.preprocessing.sequence.pad_sequences(seq, maxlen=T, padding=\"post\")\n",
    "    ans = model.predict(seq_pad)\n",
    "    print(\"out:\", ans)\n",
    "    if ans > 0.5:\n",
    "        print(\"C'est un sentiment positif.\")\n",
    "    else:\n",
    "        print(\"C'est un sentiment négatif.\")"
   ],
   "metadata": {
    "collapsed": false,
    "ExecuteTime": {
     "end_time": "2024-02-27T12:44:12.808180Z",
     "start_time": "2024-02-27T12:44:12.711735Z"
    }
   },
   "id": "62c8ca81283c4337",
   "execution_count": 46
  },
  {
   "cell_type": "code",
   "outputs": [
    {
     "name": "stdout",
     "output_type": "stream",
     "text": [
      "I haapy to be here\n",
      "1/1 [==============================] - 0s 145ms/step\n",
      "out: [[0.4361953]]\n",
      "C'est un sentiment négatif.\n",
      "I hate this film\n",
      "1/1 [==============================] - 0s 10ms/step\n",
      "out: [[0.25438935]]\n",
      "C'est un sentiment négatif.\n",
      "This is a good film\n",
      "1/1 [==============================] - 0s 9ms/step\n",
      "out: [[0.9079492]]\n",
      "C'est un sentiment positif.\n",
      "I love my mother \n",
      "1/1 [==============================] - 0s 8ms/step\n",
      "out: [[0.9454098]]\n",
      "C'est un sentiment positif.\n",
      "I don't like the bowling\n",
      "1/1 [==============================] - 0s 8ms/step\n",
      "out: [[0.33672616]]\n",
      "C'est un sentiment négatif.\n",
      "I like the bowling\n",
      "1/1 [==============================] - 0s 8ms/step\n",
      "out: [[0.8067303]]\n",
      "C'est un sentiment positif.\n"
     ]
    }
   ],
   "source": [
    "predict_text(\"I haapy to be here\")\n",
    "predict_text(\"I hate this film\")\n",
    "predict_text(\"This is a good film\")\n",
    "predict_text(\"I love my mother \")\n",
    "predict_text(\"I don't like the bowling\")\n",
    "predict_text(\"I like the bowling\")"
   ],
   "metadata": {
    "collapsed": false,
    "ExecuteTime": {
     "end_time": "2024-02-27T12:44:13.120990Z",
     "start_time": "2024-02-27T12:44:12.716714Z"
    }
   },
   "id": "30febc70171da041",
   "execution_count": 47
  },
  {
   "cell_type": "code",
   "outputs": [],
   "source": [
    "model.save(\"SC.keras\")"
   ],
   "metadata": {
    "collapsed": false,
    "ExecuteTime": {
     "end_time": "2024-02-27T12:44:13.229139Z",
     "start_time": "2024-02-27T12:44:12.980914Z"
    }
   },
   "id": "2d54f71c06e1ec48",
   "execution_count": 48
  }
 ],
 "metadata": {
  "kernelspec": {
   "display_name": "Python 3",
   "language": "python",
   "name": "python3"
  },
  "language_info": {
   "codemirror_mode": {
    "name": "ipython",
    "version": 2
   },
   "file_extension": ".py",
   "mimetype": "text/x-python",
   "name": "python",
   "nbconvert_exporter": "python",
   "pygments_lexer": "ipython2",
   "version": "2.7.6"
  }
 },
 "nbformat": 4,
 "nbformat_minor": 5
}
